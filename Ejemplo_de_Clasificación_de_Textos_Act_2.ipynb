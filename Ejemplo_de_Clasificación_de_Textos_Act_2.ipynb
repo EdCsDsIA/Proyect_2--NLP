{
  "nbformat": 4,
  "nbformat_minor": 0,
  "metadata": {
    "colab": {
      "provenance": []
    },
    "kernelspec": {
      "name": "python3",
      "display_name": "Python 3"
    },
    "language_info": {
      "name": "python"
    }
  },
  "cells": [
    {
      "cell_type": "markdown",
      "source": [
        "# [**Clasificación de opiniones de texto a partir de archivos de texto sin procesar**](https://)"
      ],
      "metadata": {
        "id": "uvtJxSMxRf0B"
      }
    },
    {
      "cell_type": "markdown",
      "source": [
        "TensorFlow te permite construir y entrenar redes neuronales para detectar patrones y razonamientos usados por los humanos. \n",
        "Además de trabajar con redes neuronales, TensorFlow es multiplataforma. Trabaja con GPUs y CPUs e \n",
        "incluso con las unidades de procesamiento de tensores (TPUs).\n",
        "\n",
        "El principal beneficio de NumPy es que permite una generación y manejo de datos extremadamente rápido. \n",
        "NumPy tiene su propia estructura de datos incorporada llamado arreglo que es similar a la lista normal de Python, pero puede almacenar y operar con datos de manera mucho más eficiente."
      ],
      "metadata": {
        "id": "nG3bMEdlTdfG"
      }
    },
    {
      "cell_type": "code",
      "source": [
        "# Importamos las librerias necesarias:\n",
        "import tensorflow as tf\n",
        "import numpy as np\n"
      ],
      "metadata": {
        "id": "0V7dNJaCGZpF"
      },
      "execution_count": 1,
      "outputs": []
    },
    {
      "cell_type": "code",
      "source": [
        "# Cargamos los datos de un conjunto de reseñas de películas de IMDB y examinamos la estructura:\n",
        "!curl -O https://ai.stanford.edu/~amaas/data/sentiment/aclImdb_v1.tar.gz\n",
        "# cURL (/kə:(r)l/.2​) es un proyecto de software consistente en una biblioteca (libcurl) y un intérprete de comandos (curl) orientado a la transferencia de archivos. \n",
        "\n",
        "!tar -xf aclImdb_v1.tar.gz"
      ],
      "metadata": {
        "colab": {
          "base_uri": "https://localhost:8080/"
        },
        "id": "GftqaWayHzi5",
        "outputId": "30eb139d-34de-486a-cdd9-03f0a2716c67"
      },
      "execution_count": 2,
      "outputs": [
        {
          "output_type": "stream",
          "name": "stdout",
          "text": [
            "  % Total    % Received % Xferd  Average Speed   Time    Time     Time  Current\n",
            "                                 Dload  Upload   Total   Spent    Left  Speed\n",
            "100 80.2M  100 80.2M    0     0  13.8M      0  0:00:05  0:00:05 --:--:-- 16.8M\n"
          ]
        }
      ]
    },
    {
      "cell_type": "code",
      "source": [
        "# La carpeta aclImdb contiene una subcarpeta de entrenamiento y prueba:\n",
        "!ls aclImdb\n",
        "\n",
        "# ls es un comando del sistema operativo Unix y derivados que muestra un listado con los archivos y directorios \n",
        "# de un determinado directorio. Los resultados se muestran ordenados alfabéticamente."
      ],
      "metadata": {
        "colab": {
          "base_uri": "https://localhost:8080/"
        },
        "id": "31qtzJ7-IeMV",
        "outputId": "b605c928-e83f-479f-f3cb-5d4af2f78a4d"
      },
      "execution_count": 3,
      "outputs": [
        {
          "output_type": "stream",
          "name": "stdout",
          "text": [
            "imdbEr.txt  imdb.vocab\tREADME\ttest  train\n"
          ]
        }
      ]
    },
    {
      "cell_type": "code",
      "source": [
        "!ls aclImdb/test"
      ],
      "metadata": {
        "colab": {
          "base_uri": "https://localhost:8080/"
        },
        "id": "U03yt0rzIimf",
        "outputId": "7df50013-761f-49ac-858e-c015cebab1ee"
      },
      "execution_count": 4,
      "outputs": [
        {
          "output_type": "stream",
          "name": "stdout",
          "text": [
            "labeledBow.feat  neg  pos  urls_neg.txt  urls_pos.txt\n"
          ]
        }
      ]
    },
    {
      "cell_type": "code",
      "source": [
        "!ls aclImdb/train"
      ],
      "metadata": {
        "colab": {
          "base_uri": "https://localhost:8080/"
        },
        "id": "8k9uVnYnIyA9",
        "outputId": "c81edc94-4fbd-4cf7-b667-4997432b7967"
      },
      "execution_count": 5,
      "outputs": [
        {
          "output_type": "stream",
          "name": "stdout",
          "text": [
            "labeledBow.feat  pos\tunsupBow.feat  urls_pos.txt\n",
            "neg\t\t unsup\turls_neg.txt   urls_unsup.txt\n"
          ]
        }
      ]
    },
    {
      "cell_type": "markdown",
      "source": [
        "Las carpetas aclImdb/train/pos y aclImdb/train/neg contienen archivos de texto, cada uno de los cuales representa una revisión (ya sea positiva o negativa):"
      ],
      "metadata": {
        "id": "5_hPVhAMI77G"
      }
    },
    {
      "cell_type": "code",
      "source": [
        "# Veo una de las reseñas en la carpeta indicada, es una reseña positiva:\n",
        "!cat aclImdb/train/pos/6248_7.txt"
      ],
      "metadata": {
        "colab": {
          "base_uri": "https://localhost:8080/"
        },
        "id": "wuj-9lQzI830",
        "outputId": "799add80-f56c-4be4-f760-574041413a87"
      },
      "execution_count": 6,
      "outputs": [
        {
          "output_type": "stream",
          "name": "stdout",
          "text": [
            "Being an Austrian myself this has been a straight knock in my face. Fortunately I don't live nowhere near the place where this movie takes place but unfortunately it portrays everything that the rest of Austria hates about Viennese people (or people close to that region). And it is very easy to read that this is exactly the directors intention: to let your head sink into your hands and say \"Oh my god, how can THAT be possible!\". No, not with me, the (in my opinion) totally exaggerated uncensored swinger club scene is not necessary, I watch porn, sure, but in this context I was rather disgusted than put in the right context.<br /><br />This movie tells a story about how misled people who suffer from lack of education or bad company try to survive and live in a world of redundancy and boring horizons. A girl who is treated like a whore by her super-jealous boyfriend (and still keeps coming back), a female teacher who discovers her masochism by putting the life of her super-cruel \"lover\" on the line, an old couple who has an almost mathematical daily cycle (she is the \"official replacement\" of his ex wife), a couple that has just divorced and has the ex husband suffer under the acts of his former wife obviously having a relationship with her masseuse and finally a crazy hitchhiker who asks her drivers the most unusual questions and stretches their nerves by just being super-annoying.<br /><br />After having seen it you feel almost nothing. You're not even shocked, sad, depressed or feel like doing anything... Maybe that's why I gave it 7 points, it made me react in a way I never reacted before. If that's good or bad is up to you!"
          ]
        }
      ]
    },
    {
      "cell_type": "markdown",
      "source": [
        "Solo nos interesan las subcarpetas pos y neg, así que eliminemos el resto:"
      ],
      "metadata": {
        "id": "MCXAnyrbJItZ"
      }
    },
    {
      "cell_type": "code",
      "source": [
        "!rm -r aclImdb/train/unsup"
      ],
      "metadata": {
        "id": "U4v7Sll9JJbW"
      },
      "execution_count": 7,
      "outputs": []
    },
    {
      "cell_type": "markdown",
      "source": [
        "Puede usar la utilidad tf.keras.preprocessing.text_dataset_from_directory para generar un objeto tf.data.Dataset etiquetado a partir de un conjunto de archivos de texto en el disco archivados en carpetas específicas de clase.\n",
        "\n",
        "Usémoslo para generar los conjuntos de datos de entrenamiento, validación y prueba. Los conjuntos de datos de validación y entrenamiento se generan a partir de dos subconjuntos del directorio de entrenamiento, con el 20 % de las muestras yendo al conjunto de datos de validación y el 80 % al conjunto de datos de entrenamiento.\n",
        "\n",
        "Tener un conjunto de datos de validación además del conjunto de datos de prueba es útil para ajustar hiperparámetros, como la arquitectura del modelo, para los cuales no se debe usar el conjunto de datos de prueba.\n",
        "\n",
        "Sin embargo, antes de poner el modelo en el mundo real, se debe volver a entrenar utilizando todos los datos de entrenamiento disponibles (sin crear un conjunto de datos de validación), para maximizar su rendimiento.\n",
        "\n",
        "Al usar los argumentos de subconjunto y división_de_validación, asegúrese de especificar una semilla aleatoria o pasar shuffle=False, para que las divisiones de validación y entrenamiento que obtenga no se superpongan."
      ],
      "metadata": {
        "id": "Tcp0pwEMJji4"
      }
    },
    {
      "cell_type": "code",
      "source": [
        "batch_size = 32\n",
        "raw_train_ds = tf.keras.preprocessing.text_dataset_from_directory(\n",
        "    \"aclImdb/train\",\n",
        "    batch_size=batch_size,\n",
        "    validation_split=0.2,\n",
        "    subset=\"training\",\n",
        "    seed=1337,\n",
        ")\n",
        "raw_val_ds = tf.keras.preprocessing.text_dataset_from_directory(\n",
        "    \"aclImdb/train\",\n",
        "    batch_size=batch_size,\n",
        "    validation_split=0.2,\n",
        "    subset=\"validation\",\n",
        "    seed=1337,\n",
        ")\n",
        "raw_test_ds = tf.keras.preprocessing.text_dataset_from_directory(\n",
        "    \"aclImdb/test\", batch_size=batch_size\n",
        ")\n",
        "\n",
        "print(f\"Number of batches in raw_train_ds: {raw_train_ds.cardinality()}\")\n",
        "print(f\"Number of batches in raw_val_ds: {raw_val_ds.cardinality()}\")\n",
        "print(f\"Number of batches in raw_test_ds: {raw_test_ds.cardinality()}\")"
      ],
      "metadata": {
        "colab": {
          "base_uri": "https://localhost:8080/"
        },
        "id": "0MruHDXwJmCc",
        "outputId": "3fa5acdd-1191-473c-b224-8193e81dc32e"
      },
      "execution_count": 8,
      "outputs": [
        {
          "output_type": "stream",
          "name": "stdout",
          "text": [
            "Found 25000 files belonging to 2 classes.\n",
            "Using 20000 files for training.\n",
            "Found 25000 files belonging to 2 classes.\n",
            "Using 5000 files for validation.\n",
            "Found 25000 files belonging to 2 classes.\n",
            "Number of batches in raw_train_ds: 625\n",
            "Number of batches in raw_val_ds: 157\n",
            "Number of batches in raw_test_ds: 782\n"
          ]
        }
      ]
    },
    {
      "cell_type": "markdown",
      "source": [
        "Veamos una vista previa de algunas muestras:\n"
      ],
      "metadata": {
        "id": "2ZdbjFUEMQ_n"
      }
    },
    {
      "cell_type": "code",
      "source": [
        "# Es importante echar un vistazo a sus datos sin procesar para garantizar su normalización.\n",
        "# y la tokenización funcionará como se esperaba. Podemos hacer eso tomando algunos\n",
        "# ejemplos del conjunto de entrenamiento y mirarlos.\n",
        "# Este es uno de los lugares donde brilla la ejecución ansiosa:\n",
        "# Simplemente podemos evaluar estos tensores usando .numpy()\n",
        "# en lugar de tener que evaluarlos en un contexto de Sesión/Gráfico.\n",
        "for text_batch, label_batch in raw_train_ds.take(1):\n",
        "    for i in range(5):\n",
        "        print(text_batch.numpy()[i])\n",
        "        print(label_batch.numpy()[i])"
      ],
      "metadata": {
        "colab": {
          "base_uri": "https://localhost:8080/"
        },
        "id": "UkI8T_fnMSIZ",
        "outputId": "ced9616c-bfcd-46bd-91ae-531ee4eef980"
      },
      "execution_count": 9,
      "outputs": [
        {
          "output_type": "stream",
          "name": "stdout",
          "text": [
            "b'I\\'ve seen tons of science fiction from the 70s; some horrendously bad, and others thought provoking and truly frightening. Soylent Green fits into the latter category. Yes, at times it\\'s a little campy, and yes, the furniture is good for a giggle or two, but some of the film seems awfully prescient. Here we have a film, 9 years before Blade Runner, that dares to imagine the future as somthing dark, scary, and nihilistic. Both Charlton Heston and Edward G. Robinson fare far better in this than The Ten Commandments, and Robinson\\'s assisted-suicide scene is creepily prescient of Kevorkian and his ilk. Some of the attitudes are dated (can you imagine a filmmaker getting away with the \"women as furniture\" concept in our oh-so-politically-correct-90s?), but it\\'s rare to find a film from the Me Decade that actually can make you think. This is one I\\'d love to see on the big screen, because even in a widescreen presentation, I don\\'t think the overall scope of this film would receive its due. Check it out.'\n",
            "1\n",
            "b'First than anything, I\\'m not going to praise I\\xc3\\xb1arritu\\'s short film, even I\\'m Mexican and proud of his success in mainstream Hollywood.<br /><br />In another hand, I see most of the reviews focuses on their favorite (and not so) short films; but we are forgetting that there is a subtle bottom line that circles the whole compilation, and maybe it will not be so pleasant for American people. (Even if that was not the main purpose of the producers) <br /><br />What i\\'m talking about is that most of the short films does not show the suffering that WASP people went through because the terrorist attack on September 11th, but the suffering of the Other people.<br /><br />Do you need proofs about what i\\'m saying? Look, in the Bosnia short film, the message is: \"You cry because of the people who died in the Towers, but we (The Others = East Europeans) are crying long ago for the crimes committed against our women and nobody pay attention to us like the whole world has done to you\".<br /><br />Even though the Burkina Fasso story is more in comedy, there is a the same thought: \"You are angry because Osama Bin Laden punched you in an evil way, but we (The Others = Africans) should be more angry, because our people is dying of hunger, poverty and AIDS long time ago, and nobody pay attention to us like the whole world has done to you\".<br /><br />Look now at the Sean Penn short: The fall of the Twin Towers makes happy to a lonely (and alienated) man. So the message is that the Power and the Greed (symbolized by the Towers) must fall for letting the people see the sun rise and the flowers blossom? It is remarkable that this terrible bottom line has been proposed by an American. There is so much irony in this short film that it is close to be subversive.<br /><br />Well, the Ken Loach (very know because his anti-capitalism ideology) is much more clearly and shameless in going straight to the point: \"You are angry because your country has been attacked by evil forces, but we (The Others = Latin Americans) suffered at a similar date something worst, and nobody remembers our grief as the whole world has done to you\".<br /><br />It is like if the creative of this project wanted to say to Americans: \"You see now, America? You are not the only that have become victim of the world violence, you are not alone in your pain and by the way, we (the Others = the Non Americans) have been suffering a lot more than you from long time ago; so, we are in solidarity with you in your pain... and by the way, we are sorry because you have had some taste of your own medicine\" Only the Mexican and the French short films showed some compassion and sympathy for American people; the others are like a slap on the face for the American State, that is not equal to American People.'\n",
            "1\n",
            "b'Blood Castle (aka Scream of the Demon Lover, Altar of Blood, Ivanna--the best, but least exploitation cinema-sounding title, and so on) is a very traditional Gothic Romance film. That means that it has big, creepy castles, a headstrong young woman, a mysterious older man, hints of horror and the supernatural, and romance elements in the contemporary sense of that genre term. It also means that it is very deliberately paced, and that the film will work best for horror mavens who are big fans of understatement. If you love films like Robert Wise\\'s The Haunting (1963), but you also have a taste for late 1960s/early 1970s Spanish and Italian horror, you may love Blood Castle, as well.<br /><br />Baron Janos Dalmar (Carlos Quiney) lives in a large castle on the outskirts of a traditional, unspecified European village. The locals fear him because legend has it that whenever he beds a woman, she soon after ends up dead--the consensus is that he sets his ferocious dogs on them. This is quite a problem because the Baron has a very healthy appetite for women. At the beginning of the film, yet another woman has turned up dead and mutilated.<br /><br />Meanwhile, Dr. Ivanna Rakowsky (Erna Sch\\xc3\\xbcrer) has appeared in the center of the village, asking to be taken to Baron Dalmar\\'s castle. She\\'s an out-of-towner who has been hired by the Baron for her expertise in chemistry. Of course, no one wants to go near the castle. Finally, Ivanna finds a shady individual (who becomes even shadier) to take her. Once there, an odd woman who lives in the castle, Olga (Cristiana Galloni), rejects Ivanna and says that she shouldn\\'t be there since she\\'s a woman. Baron Dalmar vacillates over whether she should stay. She ends up staying, but somewhat reluctantly. The Baron has hired her to try to reverse the effects of severe burns, which the Baron\\'s brother, Igor, is suffering from.<br /><br />Unfortunately, the Baron\\'s brother appears to be just a lump of decomposing flesh in a vat of bizarre, blackish liquid. And furthermore, Ivanna is having bizarre, hallucinatory dreams. Just what is going on at the castle? Is the Baron responsible for the crimes? Is he insane? <br /><br />I wanted to like Blood Castle more than I did. As I mentioned, the film is very deliberate in its pacing, and most of it is very understated. I can go either way on material like that. I don\\'t care for The Haunting (yes, I\\'m in a very small minority there), but I\\'m a big fan of 1960s and 1970s European horror. One of my favorite directors is Mario Bava. I also love Dario Argento\\'s work from that period. But occasionally, Blood Castle moved a bit too slow for me at times. There are large chunks that amount to scenes of not very exciting talking alternated with scenes of Ivanna slowly walking the corridors of the castle.<br /><br />But the atmosphere of the film is decent. Director Jos\\xc3\\xa9 Luis Merino managed more than passable sets and locations, and they\\'re shot fairly well by Emanuele Di Cola. However, Blood Castle feels relatively low budget, and this is a Roger Corman-produced film, after all (which usually means a low-budget, though often surprisingly high quality \"quickie\"). So while there is a hint of the lushness of Bava\\'s colors and complex set decoration, everything is much more minimalist. Of course, it doesn\\'t help that the Retromedia print I watched looks like a 30-year old photograph that\\'s been left out in the sun too long. It appears \"washed out\", with compromised contrast.<br /><br />Still, Merino and Di Cola occasionally set up fantastic visuals. For example, a scene of Ivanna walking in a darkened hallway that\\'s shot from an exaggerated angle, and where an important plot element is revealed through shadows on a wall only. There are also a couple Ingmar Bergmanesque shots, where actors are exquisitely blocked to imply complex relationships, besides just being visually attractive and pulling your eye deep into the frame.<br /><br />The performances are fairly good, and the women--especially Sch\\xc3\\xbcrer--are very attractive. Merino exploits this fact by incorporating a decent amount of nudity. Sch\\xc3\\xbcrer went on to do a number of films that were as much soft corn porn as they were other genres, with English titles such as Sex Life in a Woman\\'s Prison (1974), Naked and Lustful (1974), Strip Nude for Your Killer (1975) and Erotic Exploits of a Sexy Seducer (1977). Blood Castle is much tamer, but in addition to the nudity, there are still mild scenes suggesting rape and bondage, and of course the scenes mixing sex and death.<br /><br />The primary attraction here, though, is probably the story, which is much a slow-burning romance as anything else. The horror elements, the mystery elements, and a somewhat unexpected twist near the end are bonuses, but in the end, Blood Castle is a love story, about a couple overcoming various difficulties and antagonisms (often with physical threats or harms) to be together.'\n",
            "1\n",
            "b\"I was talked into watching this movie by a friend who blubbered on about what a cute story this was.<br /><br />Yuck.<br /><br />I want my two hours back, as I could have done SO many more productive things with my time...like, for instance, twiddling my thumbs. I see nothing redeeming about this film at all, save for the eye-candy aspect of it...<br /><br />3/10 (and that's being generous)\"\n",
            "0\n",
            "b\"Michelle Rodriguez is the defining actress who could be the charging force for other actresses to look out for. She has the audacity to place herself in a rarely seen tough-girl role very early in her career (and pull it off), which is a feat that should be recognized. Although her later films pigeonhole her to that same role, this film was made for her ruggedness.<br /><br />Her character is a romanticized student/fighter/lover, struggling to overcome her disenchanted existence in the projects, which is a little overdone in film...but not by a girl. That aspect of this film isn't very original, but the story goes in depth when the heated relationships that this girl has to deal with come to a boil and her primal rage takes over.<br /><br />I haven't seen an actress take such an aggressive stance in movie-making yet, and I'm glad that she's getting that original twist out there in Hollywood. This film got a 7 from me because of the average story of ghetto youth, but it has such a great actress portraying a rarely-seen role in a minimal budget movie. Great work.\"\n",
            "1\n"
          ]
        }
      ]
    },
    {
      "cell_type": "markdown",
      "source": [
        "Preparacion de datos\n"
      ],
      "metadata": {
        "id": "xuvFRuy8PWNA"
      }
    },
    {
      "cell_type": "markdown",
      "source": [
        "En particular, eliminamos las etiquetas br /.\n"
      ],
      "metadata": {
        "id": "9SzSGH7HPc9n"
      }
    },
    {
      "cell_type": "code",
      "source": [
        "from tensorflow.keras.layers import TextVectorization\n",
        "import string\n",
        "import re\n",
        "\n",
        "# Después de observar nuestros datos anteriores, vemos que el texto sin procesar contiene una ruptura HTML\n",
        "# etiquetas de la forma '<br />'. Estas etiquetas no se eliminarán de forma predeterminada\n",
        "# estandarizador (que no elimina HTML). Debido a esto, tendremos que\n",
        "# crear una función de estandarización personalizada.\n",
        "def custom_standardization(input_data):\n",
        "    lowercase = tf.strings.lower(input_data)\n",
        "    stripped_html = tf.strings.regex_replace(lowercase, \"<br />\", \" \")\n",
        "    return tf.strings.regex_replace(\n",
        "        stripped_html, f\"[{re.escape(string.punctuation)}]\", \"\"\n",
        "    )\n",
        "\n",
        "\n",
        "# Constantes del modelo:\n",
        "max_features = 20000\n",
        "embedding_dim = 128\n",
        "sequence_length = 500\n",
        "\n",
        "# Ahora que tenemos nuestra estandarización personalizada, podemos instanciar nuestro texto\n",
        "# de capa de vectorización. Estamos usando esta capa para normalizar, dividir y mapear\n",
        "# cadenas a enteros, por lo que establecemos nuestro 'output_mode' en 'int'.\n",
        "# Tenga en cuenta que estamos usando la función de división predeterminada,\n",
        "# y la estandarización personalizada definida anteriormente.\n",
        "# También establecemos una longitud de secuencia máxima explícita, ya que la CNN más adelante en nuestro\n",
        "# modelo no admitirá secuencias irregulares.\n",
        "vectorize_layer = TextVectorization(\n",
        "    standardize=custom_standardization,\n",
        "    max_tokens=max_features,\n",
        "    output_mode=\"int\",\n",
        "    output_sequence_length=sequence_length,\n",
        ")\n",
        "\n",
        "# Ahora que se ha creado la capa de vocabulario, llame a `adapt` en un conjunto \n",
        "# de datos de solo texto para crear el vocabulario. No tiene que realizar lotes, \n",
        "# pero para conjuntos de datos muy grandes, esto significa que no está guardando \n",
        "# copias de repuesto del conjunto de datos en la memoria.\n",
        "\n",
        "# Hagamos un conjunto de datos de solo texto (sin etiquetas):\n",
        "text_ds = raw_train_ds.map(lambda x, y: x)\n",
        "\n",
        "# Llamemos a `adaptar`:\n",
        "vectorize_layer.adapt(text_ds)"
      ],
      "metadata": {
        "id": "Kt1bWpmDPnRU"
      },
      "execution_count": 10,
      "outputs": []
    },
    {
      "cell_type": "markdown",
      "source": [
        "Dos opciones para vectorizar los datos Hay 2 formas en que podemos usar nuestra capa de vectorización de texto: Opción 1: Hágalo parte del modelo, para obtener un modelo que procese cadenas en bruto, como este:"
      ],
      "metadata": {
        "id": "9NeCQjI4SjeX"
      }
    },
    {
      "cell_type": "markdown",
      "source": [
        "text_input = tf.keras.Input(shape=(1,), dtype=tf.string, name='text')\n",
        "x = vectorize_layer(text_input)\n",
        "x = layers.Embedding(max_features + 1, embedding_dim)(x)\n",
        "...\n",
        "\n",
        "Opción 2: aplíquelo al conjunto de datos de texto para obtener un conjunto de datos de índices de palabras, luego introdúzcalo en un modelo que espera secuencias enteras como entradas.\n",
        "\n",
        "Una diferencia importante entre los dos es que la opción 2 le permite realizar procesamiento de CPU asíncrono y almacenamiento en búfer de sus datos cuando entrena en GPU. Entonces, si está entrenando el modelo en GPU, probablemente desee optar por esta opción para obtener el mejor rendimiento. Esto es lo que haremos a continuación.\n",
        "\n",
        "Si tuviéramos que exportar nuestro modelo a producción, enviaríamos un modelo que acepta cadenas sin formato como entrada, como en el fragmento de código de la opción 1 anterior. Esto se puede hacer después del entrenamiento. Hacemos esto en la última sección."
      ],
      "metadata": {
        "id": "f96MnvkfSsX4"
      }
    },
    {
      "cell_type": "code",
      "source": [
        "def vectorize_text(text, label):\n",
        "    text = tf.expand_dims(text, -1)\n",
        "    return vectorize_layer(text), label\n",
        "\n",
        "# Vectorizar los datos:\n",
        "train_ds = raw_train_ds.map(vectorize_text)\n",
        "val_ds = raw_val_ds.map(vectorize_text)\n",
        "test_ds = raw_test_ds.map(vectorize_text)\n",
        "\n",
        "\n",
        "# Realice una captura previa / almacenamiento en búfer asincrónico de los datos\n",
        "# para obtener el mejor rendimiento en la GPU:\n",
        "train_ds = train_ds.cache().prefetch(buffer_size=10)\n",
        "val_ds = val_ds.cache().prefetch(buffer_size=10)\n",
        "test_ds = test_ds.cache().prefetch(buffer_size=10)"
      ],
      "metadata": {
        "id": "soBoGNE7S6mo"
      },
      "execution_count": 11,
      "outputs": []
    },
    {
      "cell_type": "markdown",
      "source": [
        "Construir un modelo\n",
        "\n",
        "Elegimos una convnet 1D simple que comienza con una capa de incrustación."
      ],
      "metadata": {
        "id": "OYI8HbsFTGfP"
      }
    },
    {
      "cell_type": "code",
      "source": [
        "from tensorflow.keras import layers\n",
        "\n",
        "\n",
        "# Una entrada de número entero para los índices de vocabulario:\n",
        "inputs = tf.keras.Input(shape=(None,), dtype=\"int64\")\n",
        "\n",
        "\n",
        "# A continuación, agregamos una capa para mapear esos índices de vocabulario \n",
        "# en un espacio de dimensionalidad 'embedding_dim':\n",
        "x = layers.Embedding(max_features, embedding_dim)(inputs)\n",
        "x = layers.Dropout(0.5)(x)\n",
        "\n",
        "# Conv1D + agrupación máxima global\n",
        "x = layers.Conv1D(128, 7, padding=\"valid\", activation=\"relu\", strides=3)(x)\n",
        "x = layers.Conv1D(128, 7, padding=\"valid\", activation=\"relu\", strides=3)(x)\n",
        "x = layers.GlobalMaxPooling1D()(x)\n",
        "\n",
        "\n",
        "# Agregamos una capa oculta de vainilla:\n",
        "x = layers.Dense(128, activation=\"relu\")(x)\n",
        "x = layers.Dropout(0.5)(x)\n",
        "\n",
        "\n",
        "# Proyectamos en una capa de salida de una sola unidad y la aplastamos con un sigmoide:\n",
        "predictions = layers.Dense(1, activation=\"sigmoid\", name=\"predictions\")(x)\n",
        "\n",
        "model = tf.keras.Model(inputs, predictions)\n",
        "\n",
        "\n",
        "# Compile el modelo con pérdida de entropía cruzada binaria y un optimizador Adam:\n",
        "model.compile(loss=\"binary_crossentropy\", optimizer=\"adam\", metrics=[\"accuracy\"])"
      ],
      "metadata": {
        "id": "fHutWoARTTft"
      },
      "execution_count": 12,
      "outputs": []
    },
    {
      "cell_type": "markdown",
      "source": [
        "Entrenar el modelo"
      ],
      "metadata": {
        "id": "i89VZSoZTeaT"
      }
    },
    {
      "cell_type": "code",
      "source": [
        "epochs = 3\n",
        "\n",
        "# Ajuste el modelo usando los conjuntos de datos de entrenamiento y prueba:\n",
        "model.fit(train_ds, validation_data=val_ds, epochs=epochs)"
      ],
      "metadata": {
        "colab": {
          "base_uri": "https://localhost:8080/"
        },
        "id": "N1FK29RMThKi",
        "outputId": "da7c1b8b-16bc-4eb1-eafe-250ddaa377c1"
      },
      "execution_count": 13,
      "outputs": [
        {
          "output_type": "stream",
          "name": "stdout",
          "text": [
            "Epoch 1/3\n",
            "625/625 [==============================] - 126s 200ms/step - loss: 0.4995 - accuracy: 0.7167 - val_loss: 0.3062 - val_accuracy: 0.8724\n",
            "Epoch 2/3\n",
            "625/625 [==============================] - 122s 196ms/step - loss: 0.2233 - accuracy: 0.9103 - val_loss: 0.3211 - val_accuracy: 0.8768\n",
            "Epoch 3/3\n",
            "625/625 [==============================] - 122s 195ms/step - loss: 0.1178 - accuracy: 0.9584 - val_loss: 0.3840 - val_accuracy: 0.8740\n"
          ]
        },
        {
          "output_type": "execute_result",
          "data": {
            "text/plain": [
              "<keras.callbacks.History at 0x7f04b6e2c4d0>"
            ]
          },
          "metadata": {},
          "execution_count": 13
        }
      ]
    },
    {
      "cell_type": "markdown",
      "source": [
        "Evaluar el modelo en el set de prueba\n"
      ],
      "metadata": {
        "id": "MOtg5iY7VQNc"
      }
    },
    {
      "cell_type": "code",
      "source": [
        "model.evaluate(test_ds)"
      ],
      "metadata": {
        "colab": {
          "base_uri": "https://localhost:8080/"
        },
        "id": "WcStKNt2VT0c",
        "outputId": "8d597f6c-8d3d-44f6-fdd7-d4eb72851459"
      },
      "execution_count": null,
      "outputs": [
        {
          "output_type": "stream",
          "name": "stdout",
          "text": [
            "782/782 [==============================] - 34s 44ms/step - loss: 0.3894 - accuracy: 0.8632\n"
          ]
        },
        {
          "output_type": "execute_result",
          "data": {
            "text/plain": [
              "[0.3893643319606781, 0.8632400035858154]"
            ]
          },
          "metadata": {},
          "execution_count": 16
        }
      ]
    },
    {
      "cell_type": "markdown",
      "source": [
        "Hacer un modelo de punta a punta\n",
        "\n",
        "\n",
        "Si desea obtener un modelo capaz de procesar cadenas en bruto, simplemente puede\n",
        "crear un nuevo modelo (usando los pesos que acabamos de entrenar):\n"
      ],
      "metadata": {
        "id": "ZqVOuMHaVdQc"
      }
    },
    {
      "cell_type": "code",
      "source": [
        "# Una entrada de cadena:\n",
        "inputs = tf.keras.Input(shape=(1,), dtype=\"string\")\n",
        "\n",
        "# Convierte cadenas en índices de vocabulario:\n",
        "indices = vectorize_layer(inputs)\n",
        "\n",
        "# Convierta los índices de vocabulario en predicciones:\n",
        "outputs = model(indices)\n",
        "\n",
        "# Nuestro modelo de extremo a extremo:\n",
        "end_to_end_model = tf.keras.Model(inputs, outputs)\n",
        "end_to_end_model.compile(\n",
        "    loss=\"binary_crossentropy\", optimizer=\"adam\", metrics=[\"accuracy\"]\n",
        ")\n",
        "\n",
        "\n",
        "# Pruébelo con `raw_test_ds`, que produce cadenas sin procesar:\n",
        "end_to_end_model.evaluate(raw_test_ds)"
      ],
      "metadata": {
        "colab": {
          "base_uri": "https://localhost:8080/"
        },
        "id": "2oHa54g-VniA",
        "outputId": "9d7e9bf9-4d36-4e7d-d5c8-71e1dfe7885b"
      },
      "execution_count": null,
      "outputs": [
        {
          "output_type": "stream",
          "name": "stdout",
          "text": [
            "782/782 [==============================] - 33s 42ms/step - loss: 0.3894 - accuracy: 0.8632\n"
          ]
        },
        {
          "output_type": "execute_result",
          "data": {
            "text/plain": [
              "[0.3893642723560333, 0.8632400035858154]"
            ]
          },
          "metadata": {},
          "execution_count": 17
        }
      ]
    }
  ]
}